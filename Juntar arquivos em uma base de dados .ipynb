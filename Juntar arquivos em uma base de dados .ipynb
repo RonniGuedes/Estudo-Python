{
 "cells": [
  {
   "cell_type": "code",
   "execution_count": null,
   "id": "bb5fd390",
   "metadata": {},
   "outputs": [],
   "source": [
    "# arquivos em um só para análisar todos os dados juntos\n",
    "import os\n",
    "import pandas as pd\n",
    "import plotly.express as px\n",
    "\n",
    "# listar todos os arquivos que estão em um diretório\n",
    "lista_arquivo = os.listdir(\"caminhodoarquivo\")\n",
    "\n",
    "display(lista_arquivo)\n",
    "\n",
    "# como a pasta de venda tem muitos arquivos vamos importar todos os arquivos\n",
    "# primeiro criar uma tabela vazia\n",
    "tabela_total = pd.DataFrame()\n",
    "\n",
    "for arquivo in lista_arquivo:\n",
    "    # importar só os arquivos que tem venda no nome\n",
    "    if \"Vendas\" in arquivo\n",
    "        tabela = pd.read_csv(f\"caminhodoarquivo/{arquivo})\n",
    "        # adicionar cada arquivo de vendas em um único arquivo vazio\n",
    "        tabela_total = tabela_total.append(tabela)\n",
    "                             \n",
    "display(tabela_total\n",
    "\n",
    "# calcular o produto mais vendido em quantidade\n",
    "# tem agrupar a coluna produto e todas as outras aplicar a soma\n",
    "tabela_produtos = tabela_total.groupby(\"Produto\").sum()\n",
    "# deixando só as tabelas importantes e em ordem decrescente de valores\n",
    "tabela_produtos = tabela_produtos[[\"Quantidade Vendida\", \"Preco Unitario\"]].sort_values(by=\"Quantidade Vendida\", ascending=False) # pode tirar o Preco Unitario\n",
    "display(tabela_produtos)\n",
    "        \n",
    "# produto que mais faturou\n",
    "    # criar coluna faturamento e fazer o cálculo\n",
    "tabela_total[\"Faturamento\"] = tabela_total[\"Quantidade Vendida\"] * tabela_total[\"Preco Unitario\"]\n",
    "        \n",
    "tabela_faturamento = tabela_total.groupby(\"Produto\").sum()\n",
    "tabela_faturamento = tabela_faturamento[[\"Faturamento\"]].sort_values(by=\"Faturamento\", ascending=False) # pode tirar o Preco Unitario\n",
    "display(tabela_faturamento)\n",
    "\n",
    "# loja que mais vendeu (em faturamento)\n",
    "tabela_lojas = tabela_total.groupby(\"Loja\").sum()  \n",
    "tabela_lojas = tabela_lojas[[\"Faturamento\"]]\n",
    "display(tabela_lojas)\n",
    "        \n",
    "# criando gráfico\n",
    "# os cabeçalhos das tabelas firam diferentes, tem um deles que não pode ser lido como coluna\n",
    "# porque o groupby torna o cabeçalho um índice da tabela - fica diferente em negrito e posição diferente - então tem que passar como index\n",
    "    # criar gráfico\n",
    "grafico = px.bar(tabela_lojas, x=tabela_lojas.index, y=\"Faturamento\")\n",
    "        \n",
    "    # exibir gráfico\n",
    "grafico.show()\n"
   ]
  }
 ],
 "metadata": {
  "kernelspec": {
   "display_name": "Python 3 (ipykernel)",
   "language": "python",
   "name": "python3"
  },
  "language_info": {
   "codemirror_mode": {
    "name": "ipython",
    "version": 3
   },
   "file_extension": ".py",
   "mimetype": "text/x-python",
   "name": "python",
   "nbconvert_exporter": "python",
   "pygments_lexer": "ipython3",
   "version": "3.9.13"
  }
 },
 "nbformat": 4,
 "nbformat_minor": 5
}
